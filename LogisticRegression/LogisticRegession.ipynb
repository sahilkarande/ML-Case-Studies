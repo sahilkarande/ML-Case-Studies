{
 "cells": [
  {
   "cell_type": "markdown",
   "id": "c2cb7a70-d18b-476c-9b1e-9fdd337b33c2",
   "metadata": {},
   "source": [
    "# Import the Libraries"
   ]
  },
  {
   "cell_type": "code",
   "execution_count": 169,
   "id": "339fde17-4379-47c6-a772-9f6ea1d53cc8",
   "metadata": {},
   "outputs": [],
   "source": [
    "import os\n",
    "import numpy as np\n",
    "import pandas as pd\n",
    "from matplotlib import pyplot as plt\n",
    "from statsmodels.stats import weightstats as ssw\n",
    "from scipy.stats import chi2_contingency\n",
    "from sklearn.preprocessing import StandardScaler\n",
    "from sklearn.model_selection import train_test_split\n",
    "from statsmodels.stats.outliers_influence import variance_inflation_factor\n",
    "import statsmodels.api as sm\n",
    "from sklearn.metrics import classification_report"
   ]
  },
  {
   "cell_type": "markdown",
   "id": "5e98e0ec-ed5b-4dd3-a487-9f232c03920a",
   "metadata": {},
   "source": [
    "# Import Datasets"
   ]
  },
  {
   "cell_type": "code",
   "execution_count": 170,
   "id": "c977d36c-a8da-4b57-a656-7a328fe209fe",
   "metadata": {},
   "outputs": [
    {
     "data": {
      "text/html": [
       "<div>\n",
       "<style scoped>\n",
       "    .dataframe tbody tr th:only-of-type {\n",
       "        vertical-align: middle;\n",
       "    }\n",
       "\n",
       "    .dataframe tbody tr th {\n",
       "        vertical-align: top;\n",
       "    }\n",
       "\n",
       "    .dataframe thead th {\n",
       "        text-align: right;\n",
       "    }\n",
       "</style>\n",
       "<table border=\"1\" class=\"dataframe\">\n",
       "  <thead>\n",
       "    <tr style=\"text-align: right;\">\n",
       "      <th></th>\n",
       "      <th>age</th>\n",
       "      <th>workclass</th>\n",
       "      <th>fnlwgt</th>\n",
       "      <th>education</th>\n",
       "      <th>education-num</th>\n",
       "      <th>marital-status</th>\n",
       "      <th>occupation</th>\n",
       "      <th>relationship</th>\n",
       "      <th>race</th>\n",
       "      <th>sex</th>\n",
       "      <th>capital-gain</th>\n",
       "      <th>capital-loss</th>\n",
       "      <th>hours-per-week</th>\n",
       "      <th>native-country</th>\n",
       "      <th>annual_income</th>\n",
       "    </tr>\n",
       "  </thead>\n",
       "  <tbody>\n",
       "    <tr>\n",
       "      <th>0</th>\n",
       "      <td>39</td>\n",
       "      <td>State-gov</td>\n",
       "      <td>77516</td>\n",
       "      <td>Bachelors</td>\n",
       "      <td>13</td>\n",
       "      <td>Never-married</td>\n",
       "      <td>Adm-clerical</td>\n",
       "      <td>Not-in-family</td>\n",
       "      <td>White</td>\n",
       "      <td>Male</td>\n",
       "      <td>2174</td>\n",
       "      <td>0</td>\n",
       "      <td>40</td>\n",
       "      <td>United-States</td>\n",
       "      <td>&lt;=50K</td>\n",
       "    </tr>\n",
       "    <tr>\n",
       "      <th>1</th>\n",
       "      <td>50</td>\n",
       "      <td>Self-emp-not-inc</td>\n",
       "      <td>83311</td>\n",
       "      <td>Bachelors</td>\n",
       "      <td>13</td>\n",
       "      <td>Married-civ-spouse</td>\n",
       "      <td>Exec-managerial</td>\n",
       "      <td>Husband</td>\n",
       "      <td>White</td>\n",
       "      <td>Male</td>\n",
       "      <td>0</td>\n",
       "      <td>0</td>\n",
       "      <td>13</td>\n",
       "      <td>United-States</td>\n",
       "      <td>&lt;=50K</td>\n",
       "    </tr>\n",
       "    <tr>\n",
       "      <th>2</th>\n",
       "      <td>38</td>\n",
       "      <td>Private</td>\n",
       "      <td>215646</td>\n",
       "      <td>HS-grad</td>\n",
       "      <td>9</td>\n",
       "      <td>Divorced</td>\n",
       "      <td>Handlers-cleaners</td>\n",
       "      <td>Not-in-family</td>\n",
       "      <td>White</td>\n",
       "      <td>Male</td>\n",
       "      <td>0</td>\n",
       "      <td>0</td>\n",
       "      <td>40</td>\n",
       "      <td>United-States</td>\n",
       "      <td>&lt;=50K</td>\n",
       "    </tr>\n",
       "    <tr>\n",
       "      <th>3</th>\n",
       "      <td>53</td>\n",
       "      <td>Private</td>\n",
       "      <td>234721</td>\n",
       "      <td>11th</td>\n",
       "      <td>7</td>\n",
       "      <td>Married-civ-spouse</td>\n",
       "      <td>Handlers-cleaners</td>\n",
       "      <td>Husband</td>\n",
       "      <td>Black</td>\n",
       "      <td>Male</td>\n",
       "      <td>0</td>\n",
       "      <td>0</td>\n",
       "      <td>40</td>\n",
       "      <td>United-States</td>\n",
       "      <td>&lt;=50K</td>\n",
       "    </tr>\n",
       "    <tr>\n",
       "      <th>4</th>\n",
       "      <td>28</td>\n",
       "      <td>Private</td>\n",
       "      <td>338409</td>\n",
       "      <td>Bachelors</td>\n",
       "      <td>13</td>\n",
       "      <td>Married-civ-spouse</td>\n",
       "      <td>Prof-specialty</td>\n",
       "      <td>Wife</td>\n",
       "      <td>Black</td>\n",
       "      <td>Female</td>\n",
       "      <td>0</td>\n",
       "      <td>0</td>\n",
       "      <td>40</td>\n",
       "      <td>Cuba</td>\n",
       "      <td>&lt;=50K</td>\n",
       "    </tr>\n",
       "  </tbody>\n",
       "</table>\n",
       "</div>"
      ],
      "text/plain": [
       "   age         workclass  fnlwgt  education  education-num  \\\n",
       "0   39         State-gov   77516  Bachelors             13   \n",
       "1   50  Self-emp-not-inc   83311  Bachelors             13   \n",
       "2   38           Private  215646    HS-grad              9   \n",
       "3   53           Private  234721       11th              7   \n",
       "4   28           Private  338409  Bachelors             13   \n",
       "\n",
       "       marital-status         occupation   relationship   race     sex  \\\n",
       "0       Never-married       Adm-clerical  Not-in-family  White    Male   \n",
       "1  Married-civ-spouse    Exec-managerial        Husband  White    Male   \n",
       "2            Divorced  Handlers-cleaners  Not-in-family  White    Male   \n",
       "3  Married-civ-spouse  Handlers-cleaners        Husband  Black    Male   \n",
       "4  Married-civ-spouse     Prof-specialty           Wife  Black  Female   \n",
       "\n",
       "   capital-gain  capital-loss  hours-per-week native-country annual_income  \n",
       "0          2174             0              40  United-States         <=50K  \n",
       "1             0             0              13  United-States         <=50K  \n",
       "2             0             0              40  United-States         <=50K  \n",
       "3             0             0              40  United-States         <=50K  \n",
       "4             0             0              40           Cuba         <=50K  "
      ]
     },
     "execution_count": 170,
     "metadata": {},
     "output_type": "execute_result"
    }
   ],
   "source": [
    "df = pd.read_csv('census_income.csv')\n",
    "df.head()"
   ]
  },
  {
   "cell_type": "markdown",
   "id": "30e94850-68b4-449d-bd8f-0e560e268eb1",
   "metadata": {},
   "source": [
    "# Basic Information "
   ]
  },
  {
   "cell_type": "code",
   "execution_count": 159,
   "id": "3707618e-5141-4a3f-a068-6d39ad0dd87a",
   "metadata": {},
   "outputs": [
    {
     "name": "stdout",
     "output_type": "stream",
     "text": [
      "<class 'pandas.core.frame.DataFrame'>\n",
      "RangeIndex: 32561 entries, 0 to 32560\n",
      "Data columns (total 15 columns):\n",
      " #   Column          Non-Null Count  Dtype \n",
      "---  ------          --------------  ----- \n",
      " 0   age             32561 non-null  int64 \n",
      " 1   workclass       32561 non-null  object\n",
      " 2   fnlwgt          32561 non-null  int64 \n",
      " 3   education       32561 non-null  object\n",
      " 4   education-num   32561 non-null  int64 \n",
      " 5   marital-status  32561 non-null  object\n",
      " 6   occupation      32561 non-null  object\n",
      " 7   relationship    32561 non-null  object\n",
      " 8   race            32561 non-null  object\n",
      " 9   sex             32561 non-null  object\n",
      " 10  capital-gain    32561 non-null  int64 \n",
      " 11  capital-loss    32561 non-null  int64 \n",
      " 12  hours-per-week  32561 non-null  int64 \n",
      " 13  native-country  32561 non-null  object\n",
      " 14  annual_income   32561 non-null  object\n",
      "dtypes: int64(6), object(9)\n",
      "memory usage: 3.7+ MB\n"
     ]
    }
   ],
   "source": [
    "df.info()"
   ]
  },
  {
   "cell_type": "markdown",
   "id": "5dddb565-1123-4da7-83fb-50f24705a6ae",
   "metadata": {},
   "source": [
    "## Target Variable Information"
   ]
  },
  {
   "cell_type": "code",
   "execution_count": 160,
   "id": "7ec7e5fa-8b38-42be-b1bf-3e544b59a3a7",
   "metadata": {},
   "outputs": [
    {
     "data": {
      "text/plain": [
       "array(['<=50K', '>50K'], dtype=object)"
      ]
     },
     "execution_count": 160,
     "metadata": {},
     "output_type": "execute_result"
    }
   ],
   "source": [
    "df[\"annual_income\"].unique()"
   ]
  },
  {
   "cell_type": "code",
   "execution_count": 161,
   "id": "f2defdda-27ff-490f-9527-1f743d260439",
   "metadata": {
    "scrolled": true
   },
   "outputs": [
    {
     "data": {
      "text/plain": [
       "annual_income\n",
       "<=50K    24720\n",
       ">50K      7841\n",
       "Name: count, dtype: int64"
      ]
     },
     "execution_count": 161,
     "metadata": {},
     "output_type": "execute_result"
    }
   ],
   "source": [
    "df.annual_income.value_counts()"
   ]
  },
  {
   "cell_type": "code",
   "execution_count": 171,
   "id": "0ef90444-3cbd-42ed-af3c-f1cad888ce6d",
   "metadata": {},
   "outputs": [
    {
     "data": {
      "text/html": [
       "<div>\n",
       "<style scoped>\n",
       "    .dataframe tbody tr th:only-of-type {\n",
       "        vertical-align: middle;\n",
       "    }\n",
       "\n",
       "    .dataframe tbody tr th {\n",
       "        vertical-align: top;\n",
       "    }\n",
       "\n",
       "    .dataframe thead th {\n",
       "        text-align: right;\n",
       "    }\n",
       "</style>\n",
       "<table border=\"1\" class=\"dataframe\">\n",
       "  <thead>\n",
       "    <tr style=\"text-align: right;\">\n",
       "      <th></th>\n",
       "      <th>age</th>\n",
       "      <th>workclass</th>\n",
       "      <th>fnlwgt</th>\n",
       "      <th>education</th>\n",
       "      <th>education-num</th>\n",
       "      <th>marital-status</th>\n",
       "      <th>occupation</th>\n",
       "      <th>relationship</th>\n",
       "      <th>race</th>\n",
       "      <th>sex</th>\n",
       "      <th>capital-gain</th>\n",
       "      <th>capital-loss</th>\n",
       "      <th>hours-per-week</th>\n",
       "      <th>native-country</th>\n",
       "      <th>annual_income</th>\n",
       "    </tr>\n",
       "  </thead>\n",
       "  <tbody>\n",
       "    <tr>\n",
       "      <th>0</th>\n",
       "      <td>39</td>\n",
       "      <td>State-gov</td>\n",
       "      <td>77516</td>\n",
       "      <td>Bachelors</td>\n",
       "      <td>13</td>\n",
       "      <td>Never-married</td>\n",
       "      <td>Adm-clerical</td>\n",
       "      <td>Not-in-family</td>\n",
       "      <td>White</td>\n",
       "      <td>Male</td>\n",
       "      <td>2174</td>\n",
       "      <td>0</td>\n",
       "      <td>40</td>\n",
       "      <td>United-States</td>\n",
       "      <td>0</td>\n",
       "    </tr>\n",
       "    <tr>\n",
       "      <th>1</th>\n",
       "      <td>50</td>\n",
       "      <td>Self-emp-not-inc</td>\n",
       "      <td>83311</td>\n",
       "      <td>Bachelors</td>\n",
       "      <td>13</td>\n",
       "      <td>Married-civ-spouse</td>\n",
       "      <td>Exec-managerial</td>\n",
       "      <td>Husband</td>\n",
       "      <td>White</td>\n",
       "      <td>Male</td>\n",
       "      <td>0</td>\n",
       "      <td>0</td>\n",
       "      <td>13</td>\n",
       "      <td>United-States</td>\n",
       "      <td>0</td>\n",
       "    </tr>\n",
       "    <tr>\n",
       "      <th>2</th>\n",
       "      <td>38</td>\n",
       "      <td>Private</td>\n",
       "      <td>215646</td>\n",
       "      <td>HS-grad</td>\n",
       "      <td>9</td>\n",
       "      <td>Divorced</td>\n",
       "      <td>Handlers-cleaners</td>\n",
       "      <td>Not-in-family</td>\n",
       "      <td>White</td>\n",
       "      <td>Male</td>\n",
       "      <td>0</td>\n",
       "      <td>0</td>\n",
       "      <td>40</td>\n",
       "      <td>United-States</td>\n",
       "      <td>0</td>\n",
       "    </tr>\n",
       "    <tr>\n",
       "      <th>3</th>\n",
       "      <td>53</td>\n",
       "      <td>Private</td>\n",
       "      <td>234721</td>\n",
       "      <td>11th</td>\n",
       "      <td>7</td>\n",
       "      <td>Married-civ-spouse</td>\n",
       "      <td>Handlers-cleaners</td>\n",
       "      <td>Husband</td>\n",
       "      <td>Black</td>\n",
       "      <td>Male</td>\n",
       "      <td>0</td>\n",
       "      <td>0</td>\n",
       "      <td>40</td>\n",
       "      <td>United-States</td>\n",
       "      <td>0</td>\n",
       "    </tr>\n",
       "    <tr>\n",
       "      <th>4</th>\n",
       "      <td>28</td>\n",
       "      <td>Private</td>\n",
       "      <td>338409</td>\n",
       "      <td>Bachelors</td>\n",
       "      <td>13</td>\n",
       "      <td>Married-civ-spouse</td>\n",
       "      <td>Prof-specialty</td>\n",
       "      <td>Wife</td>\n",
       "      <td>Black</td>\n",
       "      <td>Female</td>\n",
       "      <td>0</td>\n",
       "      <td>0</td>\n",
       "      <td>40</td>\n",
       "      <td>Cuba</td>\n",
       "      <td>0</td>\n",
       "    </tr>\n",
       "  </tbody>\n",
       "</table>\n",
       "</div>"
      ],
      "text/plain": [
       "   age         workclass  fnlwgt  education  education-num  \\\n",
       "0   39         State-gov   77516  Bachelors             13   \n",
       "1   50  Self-emp-not-inc   83311  Bachelors             13   \n",
       "2   38           Private  215646    HS-grad              9   \n",
       "3   53           Private  234721       11th              7   \n",
       "4   28           Private  338409  Bachelors             13   \n",
       "\n",
       "       marital-status         occupation   relationship   race     sex  \\\n",
       "0       Never-married       Adm-clerical  Not-in-family  White    Male   \n",
       "1  Married-civ-spouse    Exec-managerial        Husband  White    Male   \n",
       "2            Divorced  Handlers-cleaners  Not-in-family  White    Male   \n",
       "3  Married-civ-spouse  Handlers-cleaners        Husband  Black    Male   \n",
       "4  Married-civ-spouse     Prof-specialty           Wife  Black  Female   \n",
       "\n",
       "   capital-gain  capital-loss  hours-per-week native-country  annual_income  \n",
       "0          2174             0              40  United-States              0  \n",
       "1             0             0              13  United-States              0  \n",
       "2             0             0              40  United-States              0  \n",
       "3             0             0              40  United-States              0  \n",
       "4             0             0              40           Cuba              0  "
      ]
     },
     "execution_count": 171,
     "metadata": {},
     "output_type": "execute_result"
    }
   ],
   "source": [
    "df['annual_income'] = df['annual_income'].map({'<=50K': 0, '>50K': 1})\n",
    "df.head()"
   ]
  },
  {
   "cell_type": "code",
   "execution_count": 202,
   "id": "baf24b90-7918-43b7-9bf4-2235a1aeeea1",
   "metadata": {},
   "outputs": [],
   "source": [
    "df = df.drop('fnlwgt', axis = 1)"
   ]
  },
  {
   "cell_type": "markdown",
   "id": "096f39f4-8bea-4dc4-b311-562dd21dc75e",
   "metadata": {
    "jp-MarkdownHeadingCollapsed": true
   },
   "source": [
    "## Convert values in binary format\n"
   ]
  },
  {
   "cell_type": "code",
   "execution_count": 163,
   "id": "b9cf7050-d10e-4bf1-a30f-12a89259a61d",
   "metadata": {},
   "outputs": [
    {
     "data": {
      "text/plain": [
       "Series([], Name: count, dtype: int64)"
      ]
     },
     "execution_count": 163,
     "metadata": {},
     "output_type": "execute_result"
    }
   ],
   "source": [
    "df['annual_income'] = df['annual_income'].map({'<=50K': 0, '>50K': 1})\n",
    "df.annual_income.value_counts()"
   ]
  },
  {
   "cell_type": "markdown",
   "id": "187debdf-e65f-4ddc-bf45-d8ba04e2ad7c",
   "metadata": {},
   "source": [
    "We labeled the values of\n",
    "* '<=50K'     with     0\n",
    "* '>50K'      with     1"
   ]
  },
  {
   "cell_type": "markdown",
   "id": "cff4676d-c27a-4d75-8375-7dbfe2e674ef",
   "metadata": {
    "jp-MarkdownHeadingCollapsed": true
   },
   "source": [
    "## Replace missing placeholders '?' with 'others'1"
   ]
  },
  {
   "cell_type": "code",
   "execution_count": 164,
   "id": "d899f7a1-138b-46e8-8339-80e5f51c9d82",
   "metadata": {},
   "outputs": [],
   "source": [
    "for col in ['workclass', 'occupation', 'native-country']:\n",
    "    df[col] = df[col].replace('?', 'others')"
   ]
  },
  {
   "cell_type": "code",
   "execution_count": 165,
   "id": "42152622-d224-4682-8ab9-128bbc0fe3ae",
   "metadata": {},
   "outputs": [
    {
     "data": {
      "text/html": [
       "<div>\n",
       "<style scoped>\n",
       "    .dataframe tbody tr th:only-of-type {\n",
       "        vertical-align: middle;\n",
       "    }\n",
       "\n",
       "    .dataframe tbody tr th {\n",
       "        vertical-align: top;\n",
       "    }\n",
       "\n",
       "    .dataframe thead th {\n",
       "        text-align: right;\n",
       "    }\n",
       "</style>\n",
       "<table border=\"1\" class=\"dataframe\">\n",
       "  <thead>\n",
       "    <tr style=\"text-align: right;\">\n",
       "      <th></th>\n",
       "      <th>age</th>\n",
       "      <th>workclass</th>\n",
       "      <th>fnlwgt</th>\n",
       "      <th>education</th>\n",
       "      <th>education-num</th>\n",
       "      <th>marital-status</th>\n",
       "      <th>occupation</th>\n",
       "      <th>relationship</th>\n",
       "      <th>race</th>\n",
       "      <th>sex</th>\n",
       "      <th>capital-gain</th>\n",
       "      <th>capital-loss</th>\n",
       "      <th>hours-per-week</th>\n",
       "      <th>native-country</th>\n",
       "      <th>annual_income</th>\n",
       "    </tr>\n",
       "  </thead>\n",
       "  <tbody>\n",
       "    <tr>\n",
       "      <th>0</th>\n",
       "      <td>39</td>\n",
       "      <td>State-gov</td>\n",
       "      <td>77516</td>\n",
       "      <td>Bachelors</td>\n",
       "      <td>13</td>\n",
       "      <td>Never-married</td>\n",
       "      <td>Adm-clerical</td>\n",
       "      <td>Not-in-family</td>\n",
       "      <td>White</td>\n",
       "      <td>Male</td>\n",
       "      <td>2174</td>\n",
       "      <td>0</td>\n",
       "      <td>40</td>\n",
       "      <td>United-States</td>\n",
       "      <td>NaN</td>\n",
       "    </tr>\n",
       "    <tr>\n",
       "      <th>1</th>\n",
       "      <td>50</td>\n",
       "      <td>Self-emp-not-inc</td>\n",
       "      <td>83311</td>\n",
       "      <td>Bachelors</td>\n",
       "      <td>13</td>\n",
       "      <td>Married-civ-spouse</td>\n",
       "      <td>Exec-managerial</td>\n",
       "      <td>Husband</td>\n",
       "      <td>White</td>\n",
       "      <td>Male</td>\n",
       "      <td>0</td>\n",
       "      <td>0</td>\n",
       "      <td>13</td>\n",
       "      <td>United-States</td>\n",
       "      <td>NaN</td>\n",
       "    </tr>\n",
       "    <tr>\n",
       "      <th>2</th>\n",
       "      <td>38</td>\n",
       "      <td>Private</td>\n",
       "      <td>215646</td>\n",
       "      <td>HS-grad</td>\n",
       "      <td>9</td>\n",
       "      <td>Divorced</td>\n",
       "      <td>Handlers-cleaners</td>\n",
       "      <td>Not-in-family</td>\n",
       "      <td>White</td>\n",
       "      <td>Male</td>\n",
       "      <td>0</td>\n",
       "      <td>0</td>\n",
       "      <td>40</td>\n",
       "      <td>United-States</td>\n",
       "      <td>NaN</td>\n",
       "    </tr>\n",
       "    <tr>\n",
       "      <th>3</th>\n",
       "      <td>53</td>\n",
       "      <td>Private</td>\n",
       "      <td>234721</td>\n",
       "      <td>11th</td>\n",
       "      <td>7</td>\n",
       "      <td>Married-civ-spouse</td>\n",
       "      <td>Handlers-cleaners</td>\n",
       "      <td>Husband</td>\n",
       "      <td>Black</td>\n",
       "      <td>Male</td>\n",
       "      <td>0</td>\n",
       "      <td>0</td>\n",
       "      <td>40</td>\n",
       "      <td>United-States</td>\n",
       "      <td>NaN</td>\n",
       "    </tr>\n",
       "    <tr>\n",
       "      <th>4</th>\n",
       "      <td>28</td>\n",
       "      <td>Private</td>\n",
       "      <td>338409</td>\n",
       "      <td>Bachelors</td>\n",
       "      <td>13</td>\n",
       "      <td>Married-civ-spouse</td>\n",
       "      <td>Prof-specialty</td>\n",
       "      <td>Wife</td>\n",
       "      <td>Black</td>\n",
       "      <td>Female</td>\n",
       "      <td>0</td>\n",
       "      <td>0</td>\n",
       "      <td>40</td>\n",
       "      <td>Cuba</td>\n",
       "      <td>NaN</td>\n",
       "    </tr>\n",
       "  </tbody>\n",
       "</table>\n",
       "</div>"
      ],
      "text/plain": [
       "   age         workclass  fnlwgt  education  education-num  \\\n",
       "0   39         State-gov   77516  Bachelors             13   \n",
       "1   50  Self-emp-not-inc   83311  Bachelors             13   \n",
       "2   38           Private  215646    HS-grad              9   \n",
       "3   53           Private  234721       11th              7   \n",
       "4   28           Private  338409  Bachelors             13   \n",
       "\n",
       "       marital-status         occupation   relationship   race     sex  \\\n",
       "0       Never-married       Adm-clerical  Not-in-family  White    Male   \n",
       "1  Married-civ-spouse    Exec-managerial        Husband  White    Male   \n",
       "2            Divorced  Handlers-cleaners  Not-in-family  White    Male   \n",
       "3  Married-civ-spouse  Handlers-cleaners        Husband  Black    Male   \n",
       "4  Married-civ-spouse     Prof-specialty           Wife  Black  Female   \n",
       "\n",
       "   capital-gain  capital-loss  hours-per-week native-country  annual_income  \n",
       "0          2174             0              40  United-States            NaN  \n",
       "1             0             0              13  United-States            NaN  \n",
       "2             0             0              40  United-States            NaN  \n",
       "3             0             0              40  United-States            NaN  \n",
       "4             0             0              40           Cuba            NaN  "
      ]
     },
     "execution_count": 165,
     "metadata": {},
     "output_type": "execute_result"
    }
   ],
   "source": [
    "df.head()"
   ]
  },
  {
   "cell_type": "code",
   "execution_count": null,
   "id": "c03082a3-5e04-43c7-a532-74089ab695e3",
   "metadata": {},
   "outputs": [],
   "source": []
  },
  {
   "cell_type": "markdown",
   "id": "02196733-a811-4591-b436-ea4184541d97",
   "metadata": {},
   "source": [
    "Here we labeled the values \n",
    "<=50K': 0\n",
    "'>50K': 1\n",
    "for proper interpretation and prediction"
   ]
  },
  {
   "cell_type": "code",
   "execution_count": 166,
   "id": "f6c8e6e5-3b36-437d-8735-1f3098accb01",
   "metadata": {},
   "outputs": [
    {
     "data": {
      "text/html": [
       "<div>\n",
       "<style scoped>\n",
       "    .dataframe tbody tr th:only-of-type {\n",
       "        vertical-align: middle;\n",
       "    }\n",
       "\n",
       "    .dataframe tbody tr th {\n",
       "        vertical-align: top;\n",
       "    }\n",
       "\n",
       "    .dataframe thead th {\n",
       "        text-align: right;\n",
       "    }\n",
       "</style>\n",
       "<table border=\"1\" class=\"dataframe\">\n",
       "  <thead>\n",
       "    <tr style=\"text-align: right;\">\n",
       "      <th></th>\n",
       "      <th>age</th>\n",
       "      <th>workclass</th>\n",
       "      <th>fnlwgt</th>\n",
       "      <th>education</th>\n",
       "      <th>education-num</th>\n",
       "      <th>marital-status</th>\n",
       "      <th>occupation</th>\n",
       "      <th>relationship</th>\n",
       "      <th>race</th>\n",
       "      <th>sex</th>\n",
       "      <th>capital-gain</th>\n",
       "      <th>capital-loss</th>\n",
       "      <th>hours-per-week</th>\n",
       "      <th>native-country</th>\n",
       "      <th>annual_income</th>\n",
       "    </tr>\n",
       "  </thead>\n",
       "  <tbody>\n",
       "    <tr>\n",
       "      <th>0</th>\n",
       "      <td>39</td>\n",
       "      <td>State-gov</td>\n",
       "      <td>77516</td>\n",
       "      <td>Bachelors</td>\n",
       "      <td>13</td>\n",
       "      <td>Never-married</td>\n",
       "      <td>Adm-clerical</td>\n",
       "      <td>Not-in-family</td>\n",
       "      <td>White</td>\n",
       "      <td>Male</td>\n",
       "      <td>2174</td>\n",
       "      <td>0</td>\n",
       "      <td>40</td>\n",
       "      <td>United-States</td>\n",
       "      <td>NaN</td>\n",
       "    </tr>\n",
       "    <tr>\n",
       "      <th>1</th>\n",
       "      <td>50</td>\n",
       "      <td>Self-emp-not-inc</td>\n",
       "      <td>83311</td>\n",
       "      <td>Bachelors</td>\n",
       "      <td>13</td>\n",
       "      <td>Married-civ-spouse</td>\n",
       "      <td>Exec-managerial</td>\n",
       "      <td>Husband</td>\n",
       "      <td>White</td>\n",
       "      <td>Male</td>\n",
       "      <td>0</td>\n",
       "      <td>0</td>\n",
       "      <td>13</td>\n",
       "      <td>United-States</td>\n",
       "      <td>NaN</td>\n",
       "    </tr>\n",
       "    <tr>\n",
       "      <th>2</th>\n",
       "      <td>38</td>\n",
       "      <td>Private</td>\n",
       "      <td>215646</td>\n",
       "      <td>HS-grad</td>\n",
       "      <td>9</td>\n",
       "      <td>Divorced</td>\n",
       "      <td>Handlers-cleaners</td>\n",
       "      <td>Not-in-family</td>\n",
       "      <td>White</td>\n",
       "      <td>Male</td>\n",
       "      <td>0</td>\n",
       "      <td>0</td>\n",
       "      <td>40</td>\n",
       "      <td>United-States</td>\n",
       "      <td>NaN</td>\n",
       "    </tr>\n",
       "    <tr>\n",
       "      <th>3</th>\n",
       "      <td>53</td>\n",
       "      <td>Private</td>\n",
       "      <td>234721</td>\n",
       "      <td>11th</td>\n",
       "      <td>7</td>\n",
       "      <td>Married-civ-spouse</td>\n",
       "      <td>Handlers-cleaners</td>\n",
       "      <td>Husband</td>\n",
       "      <td>Black</td>\n",
       "      <td>Male</td>\n",
       "      <td>0</td>\n",
       "      <td>0</td>\n",
       "      <td>40</td>\n",
       "      <td>United-States</td>\n",
       "      <td>NaN</td>\n",
       "    </tr>\n",
       "    <tr>\n",
       "      <th>4</th>\n",
       "      <td>28</td>\n",
       "      <td>Private</td>\n",
       "      <td>338409</td>\n",
       "      <td>Bachelors</td>\n",
       "      <td>13</td>\n",
       "      <td>Married-civ-spouse</td>\n",
       "      <td>Prof-specialty</td>\n",
       "      <td>Wife</td>\n",
       "      <td>Black</td>\n",
       "      <td>Female</td>\n",
       "      <td>0</td>\n",
       "      <td>0</td>\n",
       "      <td>40</td>\n",
       "      <td>Cuba</td>\n",
       "      <td>NaN</td>\n",
       "    </tr>\n",
       "  </tbody>\n",
       "</table>\n",
       "</div>"
      ],
      "text/plain": [
       "   age         workclass  fnlwgt  education  education-num  \\\n",
       "0   39         State-gov   77516  Bachelors             13   \n",
       "1   50  Self-emp-not-inc   83311  Bachelors             13   \n",
       "2   38           Private  215646    HS-grad              9   \n",
       "3   53           Private  234721       11th              7   \n",
       "4   28           Private  338409  Bachelors             13   \n",
       "\n",
       "       marital-status         occupation   relationship   race     sex  \\\n",
       "0       Never-married       Adm-clerical  Not-in-family  White    Male   \n",
       "1  Married-civ-spouse    Exec-managerial        Husband  White    Male   \n",
       "2            Divorced  Handlers-cleaners  Not-in-family  White    Male   \n",
       "3  Married-civ-spouse  Handlers-cleaners        Husband  Black    Male   \n",
       "4  Married-civ-spouse     Prof-specialty           Wife  Black  Female   \n",
       "\n",
       "   capital-gain  capital-loss  hours-per-week native-country  annual_income  \n",
       "0          2174             0              40  United-States            NaN  \n",
       "1             0             0              13  United-States            NaN  \n",
       "2             0             0              40  United-States            NaN  \n",
       "3             0             0              40  United-States            NaN  \n",
       "4             0             0              40           Cuba            NaN  "
      ]
     },
     "execution_count": 166,
     "metadata": {},
     "output_type": "execute_result"
    }
   ],
   "source": [
    "df.head()"
   ]
  },
  {
   "cell_type": "markdown",
   "id": "44ef4e5b-61fb-49fb-b330-4903413a7b4b",
   "metadata": {},
   "source": [
    "## Apply Categorical Features - Chi Square Test for Degree of Association"
   ]
  },
  {
   "cell_type": "code",
   "execution_count": 172,
   "id": "fae60c45-cf84-4a1b-9259-bafef993618f",
   "metadata": {},
   "outputs": [
    {
     "name": "stdout",
     "output_type": "stream",
     "text": [
      "workclass\n",
      "['?' 'Federal-gov' 'Local-gov' 'Never-worked' 'Private' 'Self-emp-inc'\n",
      " 'Self-emp-not-inc' 'State-gov' 'Without-pay']\n",
      "education\n",
      "['10th' '11th' '12th' '1st-4th' '5th-6th' '7th-8th' '9th' 'Assoc-acdm'\n",
      " 'Assoc-voc' 'Bachelors' 'Doctorate' 'HS-grad' 'Masters' 'Preschool'\n",
      " 'Prof-school' 'Some-college']\n",
      "marital-status\n",
      "['Divorced' 'Married-AF-spouse' 'Married-civ-spouse'\n",
      " 'Married-spouse-absent' 'Never-married' 'Separated' 'Widowed']\n",
      "occupation\n",
      "['?' 'Adm-clerical' 'Armed-Forces' 'Craft-repair' 'Exec-managerial'\n",
      " 'Farming-fishing' 'Handlers-cleaners' 'Machine-op-inspct' 'Other-service'\n",
      " 'Priv-house-serv' 'Prof-specialty' 'Protective-serv' 'Sales'\n",
      " 'Tech-support' 'Transport-moving']\n",
      "relationship\n",
      "['Husband' 'Not-in-family' 'Other-relative' 'Own-child' 'Unmarried' 'Wife']\n",
      "race\n",
      "['Amer-Indian-Eskimo' 'Asian-Pac-Islander' 'Black' 'Other' 'White']\n",
      "sex\n",
      "['Female' 'Male']\n",
      "native-country\n",
      "['?' 'Cambodia' 'Canada' 'China' 'Columbia' 'Cuba' 'Dominican-Republic'\n",
      " 'Ecuador' 'El-Salvador' 'England' 'France' 'Germany' 'Greece' 'Guatemala'\n",
      " 'Haiti' 'Holand-Netherlands' 'Honduras' 'Hong' 'Hungary' 'India' 'Iran'\n",
      " 'Ireland' 'Italy' 'Jamaica' 'Japan' 'Laos' 'Mexico' 'Nicaragua'\n",
      " 'Outlying-US(Guam-USVI-etc)' 'Peru' 'Philippines' 'Poland' 'Portugal'\n",
      " 'Puerto-Rico' 'Scotland' 'South' 'Taiwan' 'Thailand' 'Trinadad&Tobago'\n",
      " 'United-States' 'Vietnam' 'Yugoslavia']\n"
     ]
    }
   ],
   "source": [
    "cat_cols = []\n",
    "conti_cols = []\n",
    "for i in df.columns:\n",
    "  if df[i].dtype == 'object':\n",
    "    print(i)\n",
    "    print(np.unique(df[i]))\n",
    "#----> print the column name and its unique values to manually inspect categories "
   ]
  },
  {
   "cell_type": "markdown",
   "id": "01c64640-64b1-4efe-b8e0-c406dafd74b0",
   "metadata": {},
   "source": [
    "* cat_cols = [] ---> to store the names of categorical columns\n",
    "* conti_cols = [] ---> to store the names of Continuous columns"
   ]
  },
  {
   "cell_type": "code",
   "execution_count": 173,
   "id": "66f8c408-bd12-4e03-a58f-97f91a5beb9a",
   "metadata": {},
   "outputs": [
    {
     "name": "stdout",
     "output_type": "stream",
     "text": [
      "-----------------------\n",
      "Ho: workclass has no influence on annual_income\n",
      "2.0265054311207156e-220\n",
      "We reject the Null-hypothesis\n",
      "-----------------------\n",
      "Ho: education has no influence on annual_income\n",
      "0.0\n",
      "We reject the Null-hypothesis\n",
      "-----------------------\n",
      "Ho: marital-status has no influence on annual_income\n",
      "0.0\n",
      "We reject the Null-hypothesis\n",
      "-----------------------\n",
      "Ho: occupation has no influence on annual_income\n",
      "0.0\n",
      "We reject the Null-hypothesis\n",
      "-----------------------\n",
      "Ho: relationship has no influence on annual_income\n",
      "0.0\n",
      "We reject the Null-hypothesis\n",
      "-----------------------\n",
      "Ho: race has no influence on annual_income\n",
      "2.305960610160958e-70\n",
      "We reject the Null-hypothesis\n",
      "-----------------------\n",
      "Ho: sex has no influence on annual_income\n",
      "0.0\n",
      "We reject the Null-hypothesis\n",
      "-----------------------\n",
      "Ho: native-country has no influence on annual_income\n",
      "2.2113858852543023e-44\n",
      "We reject the Null-hypothesis\n"
     ]
    }
   ],
   "source": [
    "for i in df.columns:\n",
    "  if df[i].dtype == 'object':\n",
    "    print(\"-----------------------\")\n",
    "    print(f\"Ho: {i} has no influence on annual_income\")\n",
    "    test_df = pd.crosstab(df[i], df.annual_income)\n",
    "    chi2, p, *_ = chi2_contingency(test_df)\n",
    "    if p > 0.05:\n",
    "      print(p)\n",
    "      print('We do not reject the Null hypothesis (Ho).')\n",
    "    else:\n",
    "      cat_cols.append(i)\n",
    "      print(p)\n",
    "      print('We reject the Null-hypothesis')"
   ]
  },
  {
   "cell_type": "markdown",
   "id": "d950ce3c-31a7-4f9a-9afa-27bb8c57366d",
   "metadata": {},
   "source": [
    "- This code performs a Chi-Square test of independence between each categorical column and the target variable annual_income.\n",
    "- To identify which categorical features are statistically associated with the income class (<=50K or >50K), and keep only those relevant features.\n",
    "- The Chi-Square test is used to find dependency/association between two categorical variables. Since both the feature (i) and the target (annual_income) are categorical, this is the correct test to use."
   ]
  },
  {
   "cell_type": "markdown",
   "id": "028f708d-8a2f-4860-bea3-0667899bc70a",
   "metadata": {},
   "source": [
    "## Analyze the distribution of categories within the 'workclass' and 'occupation' columns."
   ]
  },
  {
   "cell_type": "code",
   "execution_count": 188,
   "id": "97a753fa-e46d-4b36-a856-ed897a682258",
   "metadata": {},
   "outputs": [
    {
     "name": "stdout",
     "output_type": "stream",
     "text": [
      "*****************************************************************************************\n",
      "          workclass  proportion\n",
      "0           Private    0.697030\n",
      "1  Self-emp-not-inc    0.078038\n",
      "2         Local-gov    0.064279\n",
      "3            others    0.056386\n",
      "4         State-gov    0.039864\n",
      "5      Self-emp-inc    0.034274\n",
      "6       Federal-gov    0.029483\n",
      "7       Without-pay    0.000430\n",
      "8      Never-worked    0.000215\n",
      "*****************************************************************************************\n",
      "           occupation  proportion\n",
      "0      Prof-specialty    0.127146\n",
      "1        Craft-repair    0.125887\n",
      "2     Exec-managerial    0.124873\n",
      "3        Adm-clerical    0.115783\n",
      "4               Sales    0.112097\n",
      "5       Other-service    0.101195\n",
      "6   Machine-op-inspct    0.061485\n",
      "7              others    0.056601\n",
      "8    Transport-moving    0.049046\n",
      "9   Handlers-cleaners    0.042075\n",
      "10    Farming-fishing    0.030527\n",
      "11       Tech-support    0.028500\n",
      "12    Protective-serv    0.019932\n",
      "13    Priv-house-serv    0.004576\n",
      "14       Armed-Forces    0.000276\n",
      "*****************************************************************************************\n",
      "                native-country  proportion\n",
      "0                United-States    0.895857\n",
      "1                       Mexico    0.019748\n",
      "2                       others    0.017905\n",
      "3                  Philippines    0.006081\n",
      "4                      Germany    0.004207\n",
      "5                       Canada    0.003716\n",
      "6                  Puerto-Rico    0.003501\n",
      "7                  El-Salvador    0.003255\n",
      "8                        India    0.003071\n",
      "9                         Cuba    0.002918\n",
      "10                     England    0.002764\n",
      "11                     Jamaica    0.002488\n",
      "12                       South    0.002457\n",
      "13                       China    0.002303\n",
      "14                       Italy    0.002242\n",
      "15          Dominican-Republic    0.002150\n",
      "16                     Vietnam    0.002058\n",
      "17                   Guatemala    0.001966\n",
      "18                       Japan    0.001904\n",
      "19                      Poland    0.001843\n",
      "20                    Columbia    0.001812\n",
      "21                      Taiwan    0.001566\n",
      "22                       Haiti    0.001351\n",
      "23                        Iran    0.001321\n",
      "24                    Portugal    0.001136\n",
      "25                   Nicaragua    0.001044\n",
      "26                        Peru    0.000952\n",
      "27                      France    0.000891\n",
      "28                      Greece    0.000891\n",
      "29                     Ecuador    0.000860\n",
      "30                     Ireland    0.000737\n",
      "31                        Hong    0.000614\n",
      "32                    Cambodia    0.000584\n",
      "33             Trinadad&Tobago    0.000584\n",
      "34                        Laos    0.000553\n",
      "35                    Thailand    0.000553\n",
      "36                  Yugoslavia    0.000491\n",
      "37  Outlying-US(Guam-USVI-etc)    0.000430\n",
      "38                    Honduras    0.000399\n",
      "39                     Hungary    0.000399\n",
      "40                    Scotland    0.000369\n",
      "41          Holand-Netherlands    0.000031\n",
      "*****************************************************************************************\n"
     ]
    }
   ],
   "source": [
    "test_workclass = df.workclass.value_counts(normalize=True).reset_index()\n",
    "test_occupation = df.occupation.value_counts(normalize=True).reset_index()\n",
    "test_native = df['native-country'].value_counts(normalize=True).reset_index()\n",
    "\n",
    "print(\"*****************************************************************************************\")\n",
    "print(test_workclass)\n",
    "print(\"*****************************************************************************************\")\n",
    "print(test_occupation)\n",
    "print(\"*****************************************************************************************\")\n",
    "print(test_native)\n",
    "print(\"*****************************************************************************************\")"
   ]
  },
  {
   "cell_type": "markdown",
   "id": "00218cad-93d8-4acc-b256-2a98b8a3fb45",
   "metadata": {},
   "source": [
    "- To know the different proportions of categories in the column workclass and occupation"
   ]
  },
  {
   "cell_type": "markdown",
   "id": "d7058898-e8d0-44ec-954f-b17e4938338e",
   "metadata": {},
   "source": [
    "## Above column contains missing values '?' lets replace it with 'others'"
   ]
  },
  {
   "cell_type": "code",
   "execution_count": 189,
   "id": "0235f31e-82a9-4a4c-8d3f-6c9116fe1aaf",
   "metadata": {},
   "outputs": [],
   "source": [
    "for i in ['workclass', 'occupation', 'native-country']:\n",
    "  df[i] = df[i].replace('?', 'others')"
   ]
  },
  {
   "cell_type": "code",
   "execution_count": 190,
   "id": "ceb3a18e-ec4c-44ff-8490-09971aba3067",
   "metadata": {},
   "outputs": [
    {
     "name": "stdout",
     "output_type": "stream",
     "text": [
      "*****************************************************************************************\n",
      "['State-gov' 'Self-emp-not-inc' 'Private' 'Federal-gov' 'Local-gov'\n",
      " 'others' 'Self-emp-inc' 'Without-pay' 'Never-worked']\n",
      "*****************************************************************************************\n",
      "['Adm-clerical' 'Exec-managerial' 'Handlers-cleaners' 'Prof-specialty'\n",
      " 'Other-service' 'Sales' 'Craft-repair' 'Transport-moving'\n",
      " 'Farming-fishing' 'Machine-op-inspct' 'Tech-support' 'others'\n",
      " 'Protective-serv' 'Armed-Forces' 'Priv-house-serv']\n",
      "*****************************************************************************************\n",
      "['United-States' 'Cuba' 'Jamaica' 'India' 'others' 'Mexico' 'South'\n",
      " 'Puerto-Rico' 'Honduras' 'England' 'Canada' 'Germany' 'Iran'\n",
      " 'Philippines' 'Italy' 'Poland' 'Columbia' 'Cambodia' 'Thailand' 'Ecuador'\n",
      " 'Laos' 'Taiwan' 'Haiti' 'Portugal' 'Dominican-Republic' 'El-Salvador'\n",
      " 'France' 'Guatemala' 'China' 'Japan' 'Yugoslavia' 'Peru'\n",
      " 'Outlying-US(Guam-USVI-etc)' 'Scotland' 'Trinadad&Tobago' 'Greece'\n",
      " 'Nicaragua' 'Vietnam' 'Hong' 'Ireland' 'Hungary' 'Holand-Netherlands']\n",
      "*****************************************************************************************\n"
     ]
    }
   ],
   "source": [
    "print(\"*****************************************************************************************\")\n",
    "print(df['workclass'].unique())\n",
    "print(\"*****************************************************************************************\")\n",
    "print(df['occupation'].unique())\n",
    "print(\"*****************************************************************************************\")\n",
    "print(df['native-country'].unique())\n",
    "print(\"*****************************************************************************************\")"
   ]
  },
  {
   "cell_type": "code",
   "execution_count": 191,
   "id": "890a8adc-b411-477a-a953-aacd5e89a7ae",
   "metadata": {},
   "outputs": [
    {
     "name": "stdout",
     "output_type": "stream",
     "text": [
      "age\n",
      "fnlwgt\n",
      "education-num\n",
      "capital-gain\n",
      "capital-loss\n",
      "hours-per-week\n"
     ]
    }
   ],
   "source": [
    "for i in df.columns:\n",
    "  if df[i].dtype != 'object' and i != 'annual_income':\n",
    "    print(i)"
   ]
  },
  {
   "cell_type": "markdown",
   "id": "8846d9e1-cfc5-4b66-8728-8fb015e00335",
   "metadata": {},
   "source": [
    "- Lists all continuous (numeric) columns other than the target column annual_income."
   ]
  },
  {
   "cell_type": "code",
   "execution_count": 192,
   "id": "c48e637a-fe4e-4ef9-a513-594b2b669b2c",
   "metadata": {},
   "outputs": [
    {
     "name": "stdout",
     "output_type": "stream",
     "text": [
      "*****************************************************************************************\n",
      "age has no influence on annual_income\n",
      "0.0\n",
      "We reject the null hypothesis (Ho)\n",
      "*****************************************************************************************\n",
      "fnlwgt has no influence on annual_income\n",
      "0.08772712748728925\n",
      "We do not reject the null hypothesis (Ho).\n",
      "*****************************************************************************************\n",
      "education-num has no influence on annual_income\n",
      "0.0\n",
      "We reject the null hypothesis (Ho)\n",
      "*****************************************************************************************\n",
      "capital-gain has no influence on annual_income\n",
      "0.0\n",
      "We reject the null hypothesis (Ho)\n",
      "*****************************************************************************************\n",
      "capital-loss has no influence on annual_income\n",
      "3.5734849240534076e-166\n",
      "We reject the null hypothesis (Ho)\n",
      "*****************************************************************************************\n",
      "hours-per-week has no influence on annual_income\n",
      "0.0\n",
      "We reject the null hypothesis (Ho)\n"
     ]
    }
   ],
   "source": [
    "for i in df.columns:\n",
    "    if df[i].dtype != 'object' and i != 'annual_income':\n",
    "        print(\"*****************************************************************************************\")\n",
    "        print(f\"{i} has no influence on annual_income\")\n",
    "        t, p = ssw.ztest(df[df.annual_income == 1][i], df[df.annual_income == 0][i], value=0)\n",
    "        print(p)\n",
    "        if p > 0.05:\n",
    "            print('We do not reject the null hypothesis (Ho).')\n",
    "        else:\n",
    "            conti_cols.append(i)\n",
    "            print(\"We reject the null hypothesis (Ho)\")\n"
   ]
  },
  {
   "cell_type": "markdown",
   "id": "d39f1051-7be9-4311-b0a4-a1fc180b11f6",
   "metadata": {},
   "source": [
    "- Use the Two-sample Z-test to compare the mean values of feature i between:\n",
    "- People with income >50K (annual_income == 1)\n",
    "- People with income <=50K (annual_income == 0)\n",
    "\n",
    "- To check if the feature significantly differs between the two income groups.\n",
    "- If it does, then it’s a good predictor of income and should be kept for modeling."
   ]
  },
  {
   "cell_type": "code",
   "execution_count": 195,
   "id": "0f7ec403-3ffe-4988-ad56-adefad9c5995",
   "metadata": {},
   "outputs": [
    {
     "data": {
      "text/plain": [
       "['workclass',\n",
       " 'education',\n",
       " 'marital-status',\n",
       " 'occupation',\n",
       " 'relationship',\n",
       " 'race',\n",
       " 'sex',\n",
       " 'native-country',\n",
       " 'age',\n",
       " 'education-num',\n",
       " 'capital-gain',\n",
       " 'capital-loss',\n",
       " 'hours-per-week',\n",
       " 'age',\n",
       " 'education-num',\n",
       " 'capital-gain',\n",
       " 'capital-loss',\n",
       " 'hours-per-week']"
      ]
     },
     "execution_count": 195,
     "metadata": {},
     "output_type": "execute_result"
    }
   ],
   "source": [
    "final_cols = cat_cols + conti_cols\n",
    "final_cols\n",
    "# Columns who influence annual Income"
   ]
  },
  {
   "cell_type": "code",
   "execution_count": 196,
   "id": "2876a86e-5a8e-49f2-8192-ec2b157894e0",
   "metadata": {},
   "outputs": [],
   "source": [
    "test_dummy = pd.DataFrame() #--------> Initializes an empty DataFrame to store all the dummy-encoded columns."
   ]
  },
  {
   "cell_type": "code",
   "execution_count": 199,
   "id": "a74bb97c-0025-4f2c-8404-0503434efa15",
   "metadata": {},
   "outputs": [
    {
     "name": "stdout",
     "output_type": "stream",
     "text": [
      "\n",
      "✅ One-hot encoding completed for: 'workclass'\n",
      "Unique categories in original column: ['State-gov' 'Self-emp-not-inc' 'Private' 'Federal-gov' 'Local-gov'\n",
      " 'others' 'Self-emp-inc' 'Without-pay' 'Never-worked']\n",
      "Generated dummy columns: ['workclass_Local-gov', 'workclass_Never-worked', 'workclass_Private', 'workclass_Self-emp-inc', 'workclass_Self-emp-not-inc', 'workclass_State-gov', 'workclass_Without-pay', 'workclass_others']\n",
      "\n",
      "✅ One-hot encoding completed for: 'education'\n",
      "Unique categories in original column: ['Bachelors' 'HS-grad' '11th' 'Masters' '9th' 'Some-college' 'Assoc-acdm'\n",
      " 'Assoc-voc' '7th-8th' 'Doctorate' 'Prof-school' '5th-6th' '10th'\n",
      " '1st-4th' 'Preschool' '12th']\n",
      "Generated dummy columns: ['education_11th', 'education_12th', 'education_1st-4th', 'education_5th-6th', 'education_7th-8th', 'education_9th', 'education_Assoc-acdm', 'education_Assoc-voc', 'education_Bachelors', 'education_Doctorate', 'education_HS-grad', 'education_Masters', 'education_Preschool', 'education_Prof-school', 'education_Some-college']\n",
      "\n",
      "✅ One-hot encoding completed for: 'marital-status'\n",
      "Unique categories in original column: ['Never-married' 'Married-civ-spouse' 'Divorced' 'Married-spouse-absent'\n",
      " 'Separated' 'Married-AF-spouse' 'Widowed']\n",
      "Generated dummy columns: ['marital-status_Married-AF-spouse', 'marital-status_Married-civ-spouse', 'marital-status_Married-spouse-absent', 'marital-status_Never-married', 'marital-status_Separated', 'marital-status_Widowed']\n",
      "\n",
      "✅ One-hot encoding completed for: 'occupation'\n",
      "Unique categories in original column: ['Adm-clerical' 'Exec-managerial' 'Handlers-cleaners' 'Prof-specialty'\n",
      " 'Other-service' 'Sales' 'Craft-repair' 'Transport-moving'\n",
      " 'Farming-fishing' 'Machine-op-inspct' 'Tech-support' 'others'\n",
      " 'Protective-serv' 'Armed-Forces' 'Priv-house-serv']\n",
      "Generated dummy columns: ['occupation_Armed-Forces', 'occupation_Craft-repair', 'occupation_Exec-managerial', 'occupation_Farming-fishing', 'occupation_Handlers-cleaners', 'occupation_Machine-op-inspct', 'occupation_Other-service', 'occupation_Priv-house-serv', 'occupation_Prof-specialty', 'occupation_Protective-serv', 'occupation_Sales', 'occupation_Tech-support', 'occupation_Transport-moving', 'occupation_others']\n",
      "\n",
      "✅ One-hot encoding completed for: 'relationship'\n",
      "Unique categories in original column: ['Not-in-family' 'Husband' 'Wife' 'Own-child' 'Unmarried' 'Other-relative']\n",
      "Generated dummy columns: ['relationship_Not-in-family', 'relationship_Other-relative', 'relationship_Own-child', 'relationship_Unmarried', 'relationship_Wife']\n",
      "\n",
      "✅ One-hot encoding completed for: 'race'\n",
      "Unique categories in original column: ['White' 'Black' 'Asian-Pac-Islander' 'Amer-Indian-Eskimo' 'Other']\n",
      "Generated dummy columns: ['race_Asian-Pac-Islander', 'race_Black', 'race_Other', 'race_White']\n",
      "\n",
      "✅ One-hot encoding completed for: 'sex'\n",
      "Unique categories in original column: ['Male' 'Female']\n",
      "Generated dummy columns: ['sex_Male']\n",
      "\n",
      "✅ One-hot encoding completed for: 'native-country'\n",
      "Unique categories in original column: ['United-States' 'Cuba' 'Jamaica' 'India' 'others' 'Mexico' 'South'\n",
      " 'Puerto-Rico' 'Honduras' 'England' 'Canada' 'Germany' 'Iran'\n",
      " 'Philippines' 'Italy' 'Poland' 'Columbia' 'Cambodia' 'Thailand' 'Ecuador'\n",
      " 'Laos' 'Taiwan' 'Haiti' 'Portugal' 'Dominican-Republic' 'El-Salvador'\n",
      " 'France' 'Guatemala' 'China' 'Japan' 'Yugoslavia' 'Peru'\n",
      " 'Outlying-US(Guam-USVI-etc)' 'Scotland' 'Trinadad&Tobago' 'Greece'\n",
      " 'Nicaragua' 'Vietnam' 'Hong' 'Ireland' 'Hungary' 'Holand-Netherlands']\n",
      "Generated dummy columns: ['native-country_Canada', 'native-country_China', 'native-country_Columbia', 'native-country_Cuba', 'native-country_Dominican-Republic', 'native-country_Ecuador', 'native-country_El-Salvador', 'native-country_England', 'native-country_France', 'native-country_Germany', 'native-country_Greece', 'native-country_Guatemala', 'native-country_Haiti', 'native-country_Holand-Netherlands', 'native-country_Honduras', 'native-country_Hong', 'native-country_Hungary', 'native-country_India', 'native-country_Iran', 'native-country_Ireland', 'native-country_Italy', 'native-country_Jamaica', 'native-country_Japan', 'native-country_Laos', 'native-country_Mexico', 'native-country_Nicaragua', 'native-country_Outlying-US(Guam-USVI-etc)', 'native-country_Peru', 'native-country_Philippines', 'native-country_Poland', 'native-country_Portugal', 'native-country_Puerto-Rico', 'native-country_Scotland', 'native-country_South', 'native-country_Taiwan', 'native-country_Thailand', 'native-country_Trinadad&Tobago', 'native-country_United-States', 'native-country_Vietnam', 'native-country_Yugoslavia', 'native-country_others']\n",
      "\n",
      "✅ All categorical features successfully encoded.\n"
     ]
    }
   ],
   "source": [
    "test_dummy = pd.DataFrame()\n",
    "\n",
    "for i in cat_cols:\n",
    "    dummy = pd.get_dummies(df[i], drop_first=True, prefix=f\"{i}\").astype(int)\n",
    "    test_dummy = pd.concat([test_dummy, dummy], axis=1)\n",
    "\n",
    "    print(f\"\\n✅ One-hot encoding completed for: '{i}'\")\n",
    "    print(f\"Unique categories in original column: {df[i].unique()}\")\n",
    "    print(f\"Generated dummy columns: {list(dummy.columns)}\")\n",
    "\n",
    "print(\"\\n✅ All categorical features successfully encoded.\")\n"
   ]
  },
  {
   "cell_type": "markdown",
   "id": "ed6aace7-1ad2-4320-b18b-c3f28ba70b63",
   "metadata": {},
   "source": [
    "- This block performs one-hot encoding on the selected categorical columns, which are identified as relevant through statistical testing. \n",
    "- It generates binary (0/1) indicator variables for each category (excluding the first to prevent multicollinearity), and stores the results in a combined DataFrame (test_dummy). \n",
    "- This encoded data is then prepared for merging with the original dataset for use in model training."
   ]
  },
  {
   "cell_type": "code",
   "execution_count": 200,
   "id": "9598e38e-3969-495c-b687-c8ef42bba94b",
   "metadata": {},
   "outputs": [
    {
     "data": {
      "text/plain": [
       "Index(['workclass_Local-gov', 'workclass_Never-worked', 'workclass_Private',\n",
       "       'workclass_Self-emp-inc', 'workclass_Self-emp-not-inc',\n",
       "       'workclass_State-gov', 'workclass_Without-pay', 'workclass_others',\n",
       "       'education_11th', 'education_12th', 'education_1st-4th',\n",
       "       'education_5th-6th', 'education_7th-8th', 'education_9th',\n",
       "       'education_Assoc-acdm', 'education_Assoc-voc', 'education_Bachelors',\n",
       "       'education_Doctorate', 'education_HS-grad', 'education_Masters',\n",
       "       'education_Preschool', 'education_Prof-school',\n",
       "       'education_Some-college', 'marital-status_Married-AF-spouse',\n",
       "       'marital-status_Married-civ-spouse',\n",
       "       'marital-status_Married-spouse-absent', 'marital-status_Never-married',\n",
       "       'marital-status_Separated', 'marital-status_Widowed',\n",
       "       'occupation_Armed-Forces', 'occupation_Craft-repair',\n",
       "       'occupation_Exec-managerial', 'occupation_Farming-fishing',\n",
       "       'occupation_Handlers-cleaners', 'occupation_Machine-op-inspct',\n",
       "       'occupation_Other-service', 'occupation_Priv-house-serv',\n",
       "       'occupation_Prof-specialty', 'occupation_Protective-serv',\n",
       "       'occupation_Sales', 'occupation_Tech-support',\n",
       "       'occupation_Transport-moving', 'occupation_others',\n",
       "       'relationship_Not-in-family', 'relationship_Other-relative',\n",
       "       'relationship_Own-child', 'relationship_Unmarried', 'relationship_Wife',\n",
       "       'race_Asian-Pac-Islander', 'race_Black', 'race_Other', 'race_White',\n",
       "       'sex_Male', 'native-country_Canada', 'native-country_China',\n",
       "       'native-country_Columbia', 'native-country_Cuba',\n",
       "       'native-country_Dominican-Republic', 'native-country_Ecuador',\n",
       "       'native-country_El-Salvador', 'native-country_England',\n",
       "       'native-country_France', 'native-country_Germany',\n",
       "       'native-country_Greece', 'native-country_Guatemala',\n",
       "       'native-country_Haiti', 'native-country_Holand-Netherlands',\n",
       "       'native-country_Honduras', 'native-country_Hong',\n",
       "       'native-country_Hungary', 'native-country_India', 'native-country_Iran',\n",
       "       'native-country_Ireland', 'native-country_Italy',\n",
       "       'native-country_Jamaica', 'native-country_Japan', 'native-country_Laos',\n",
       "       'native-country_Mexico', 'native-country_Nicaragua',\n",
       "       'native-country_Outlying-US(Guam-USVI-etc)', 'native-country_Peru',\n",
       "       'native-country_Philippines', 'native-country_Poland',\n",
       "       'native-country_Portugal', 'native-country_Puerto-Rico',\n",
       "       'native-country_Scotland', 'native-country_South',\n",
       "       'native-country_Taiwan', 'native-country_Thailand',\n",
       "       'native-country_Trinadad&Tobago', 'native-country_United-States',\n",
       "       'native-country_Vietnam', 'native-country_Yugoslavia',\n",
       "       'native-country_others'],\n",
       "      dtype='object')"
      ]
     },
     "execution_count": 200,
     "metadata": {},
     "output_type": "execute_result"
    }
   ],
   "source": [
    "test_dummy.columns\n"
   ]
  },
  {
   "cell_type": "markdown",
   "id": "1c31c81e-92f2-4ca1-ae38-a1139689c84c",
   "metadata": {},
   "source": [
    "- Above displays the column names of your encoded (one-hot) features, created from the selected categorical columns (cat_cols)."
   ]
  },
  {
   "cell_type": "code",
   "execution_count": 201,
   "id": "b8376957-35cf-49d8-9e3c-36dc128faccb",
   "metadata": {},
   "outputs": [
    {
     "data": {
      "text/plain": [
       "Index(['age', 'fnlwgt', 'education-num', 'capital-gain', 'capital-loss',\n",
       "       'hours-per-week', 'annual_income', 'workclass_Local-gov',\n",
       "       'workclass_Never-worked', 'workclass_Private',\n",
       "       ...\n",
       "       'native-country_Puerto-Rico', 'native-country_Scotland',\n",
       "       'native-country_South', 'native-country_Taiwan',\n",
       "       'native-country_Thailand', 'native-country_Trinadad&Tobago',\n",
       "       'native-country_United-States', 'native-country_Vietnam',\n",
       "       'native-country_Yugoslavia', 'native-country_others'],\n",
       "      dtype='object', length=101)"
      ]
     },
     "execution_count": 201,
     "metadata": {},
     "output_type": "execute_result"
    }
   ],
   "source": [
    "df = df.drop(columns=cat_cols)\n",
    "df = pd.concat([df, test_dummy], axis=1)\n",
    "df.columns"
   ]
  },
  {
   "cell_type": "markdown",
   "id": "3e6793e0-3dad-44d6-975a-15cdf6496228",
   "metadata": {},
   "source": [
    "- This block finalizes the transformation of categorical features into numerical format using one-hot encoding, integrates them into the main dataset, and removes the original categorical variables to avoid redundancy.\n",
    "- The resulting DataFrame df is fully numeric and ready for model training."
   ]
  },
  {
   "cell_type": "code",
   "execution_count": 204,
   "id": "034b4e78-c891-4779-a147-429b22619640",
   "metadata": {},
   "outputs": [],
   "source": [
    "df_preds = df.drop('annual_income', axis = 1)\n",
    "df_resp = df['annual_income']"
   ]
  },
  {
   "cell_type": "markdown",
   "id": "345ea5e2-9228-4340-9db3-1f8ca5abcbc2",
   "metadata": {},
   "source": [
    "- Split predictors and response columns"
   ]
  },
  {
   "cell_type": "code",
   "execution_count": 205,
   "id": "09cd050d-8d1f-4189-a4a9-7febf1ce3278",
   "metadata": {},
   "outputs": [
    {
     "data": {
      "text/plain": [
       "(32561, 99)"
      ]
     },
     "execution_count": 205,
     "metadata": {},
     "output_type": "execute_result"
    }
   ],
   "source": [
    "df_preds.shape"
   ]
  },
  {
   "cell_type": "code",
   "execution_count": 206,
   "id": "1d4da27c-f8a3-42c7-afd7-0b016835e6f4",
   "metadata": {},
   "outputs": [
    {
     "name": "stderr",
     "output_type": "stream",
     "text": [
      "C:\\Python-3.10\\lib\\site-packages\\statsmodels\\stats\\outliers_influence.py:197: RuntimeWarning: divide by zero encountered in scalar divide\n",
      "  vif = 1. / (1. - r_squared_i)\n"
     ]
    },
    {
     "data": {
      "text/html": [
       "<div>\n",
       "<style scoped>\n",
       "    .dataframe tbody tr th:only-of-type {\n",
       "        vertical-align: middle;\n",
       "    }\n",
       "\n",
       "    .dataframe tbody tr th {\n",
       "        vertical-align: top;\n",
       "    }\n",
       "\n",
       "    .dataframe thead th {\n",
       "        text-align: right;\n",
       "    }\n",
       "</style>\n",
       "<table border=\"1\" class=\"dataframe\">\n",
       "  <thead>\n",
       "    <tr style=\"text-align: right;\">\n",
       "      <th></th>\n",
       "      <th>Columns</th>\n",
       "      <th>VIF</th>\n",
       "    </tr>\n",
       "  </thead>\n",
       "  <tbody>\n",
       "    <tr>\n",
       "      <th>0</th>\n",
       "      <td>age</td>\n",
       "      <td>2.206920e+09</td>\n",
       "    </tr>\n",
       "    <tr>\n",
       "      <th>1</th>\n",
       "      <td>education-num</td>\n",
       "      <td>2.147054e+09</td>\n",
       "    </tr>\n",
       "    <tr>\n",
       "      <th>2</th>\n",
       "      <td>capital-gain</td>\n",
       "      <td>inf</td>\n",
       "    </tr>\n",
       "    <tr>\n",
       "      <th>3</th>\n",
       "      <td>capital-loss</td>\n",
       "      <td>inf</td>\n",
       "    </tr>\n",
       "    <tr>\n",
       "      <th>4</th>\n",
       "      <td>hours-per-week</td>\n",
       "      <td>inf</td>\n",
       "    </tr>\n",
       "    <tr>\n",
       "      <th>5</th>\n",
       "      <td>age</td>\n",
       "      <td>inf</td>\n",
       "    </tr>\n",
       "    <tr>\n",
       "      <th>6</th>\n",
       "      <td>education-num</td>\n",
       "      <td>inf</td>\n",
       "    </tr>\n",
       "    <tr>\n",
       "      <th>7</th>\n",
       "      <td>capital-gain</td>\n",
       "      <td>inf</td>\n",
       "    </tr>\n",
       "    <tr>\n",
       "      <th>8</th>\n",
       "      <td>capital-loss</td>\n",
       "      <td>3.277420e+09</td>\n",
       "    </tr>\n",
       "    <tr>\n",
       "      <th>9</th>\n",
       "      <td>hours-per-week</td>\n",
       "      <td>1.224178e+07</td>\n",
       "    </tr>\n",
       "  </tbody>\n",
       "</table>\n",
       "</div>"
      ],
      "text/plain": [
       "          Columns           VIF\n",
       "0             age  2.206920e+09\n",
       "1   education-num  2.147054e+09\n",
       "2    capital-gain           inf\n",
       "3    capital-loss           inf\n",
       "4  hours-per-week           inf\n",
       "5             age           inf\n",
       "6   education-num           inf\n",
       "7    capital-gain           inf\n",
       "8    capital-loss  3.277420e+09\n",
       "9  hours-per-week  1.224178e+07"
      ]
     },
     "execution_count": 206,
     "metadata": {},
     "output_type": "execute_result"
    }
   ],
   "source": [
    "x_train, x_test, y_train, y_test = train_test_split(df_preds, df_resp, test_size=0.2)\n",
    "vif_data = pd.DataFrame()\n",
    "vif_data['Columns'] = conti_cols\n",
    "test_df = x_train[conti_cols]\n",
    "res = []\n",
    "for ctr in range(test_df.shape[1]):\n",
    "  res.append(variance_inflation_factor(test_df.values, ctr))\n",
    "vif_data['VIF'] = res\n",
    "vif_data"
   ]
  },
  {
   "cell_type": "markdown",
   "id": "f32e0260-e533-48cc-a3c8-867781eed272",
   "metadata": {},
   "source": [
    "- This block checks your continuous variables for multicollinearity using VIF. \n",
    "- Features with a high VIF may need to be removed to improve model stability and interpretability."
   ]
  },
  {
   "cell_type": "code",
   "execution_count": 207,
   "id": "22e2fe20-ab15-4706-84d5-120de69b64ec",
   "metadata": {},
   "outputs": [
    {
     "name": "stdout",
     "output_type": "stream",
     "text": [
      "Warning: Maximum number of iterations has been exceeded.\n",
      "         Current function value: 0.314651\n",
      "         Iterations: 35\n",
      "                           Logit Regression Results                           \n",
      "==============================================================================\n",
      "Dep. Variable:          annual_income   No. Observations:                26048\n",
      "Model:                          Logit   Df Residuals:                    25950\n",
      "Method:                           MLE   Df Model:                           97\n",
      "Date:                Mon, 16 Jun 2025   Pseudo R-squ.:                  0.4291\n",
      "Time:                        00:13:40   Log-Likelihood:                -8196.0\n",
      "converged:                      False   LL-Null:                       -14357.\n",
      "Covariance Type:            nonrobust   LLR p-value:                     0.000\n",
      "=============================================================================================================\n",
      "                                                coef    std err          z      P>|z|      [0.025      0.975]\n",
      "-------------------------------------------------------------------------------------------------------------\n",
      "age                                           0.0262      0.002     14.210      0.000       0.023       0.030\n",
      "education-num                                -1.0360      0.144     -7.198      0.000      -1.318      -0.754\n",
      "capital-gain                                  0.0003   1.14e-05     28.013      0.000       0.000       0.000\n",
      "capital-loss                                  0.0007   4.14e-05     15.805      0.000       0.001       0.001\n",
      "hours-per-week                                0.0301      0.002     16.475      0.000       0.027       0.034\n",
      "workclass_Local-gov                          -0.6059      0.126     -4.800      0.000      -0.853      -0.358\n",
      "workclass_Never-worked                      -10.5962        nan        nan        nan         nan         nan\n",
      "workclass_Private                            -0.4801      0.105     -4.553      0.000      -0.687      -0.273\n",
      "workclass_Self-emp-inc                       -0.2235      0.138     -1.620      0.105      -0.494       0.047\n",
      "workclass_Self-emp-not-inc                   -0.9905      0.123     -8.023      0.000      -1.233      -0.749\n",
      "workclass_State-gov                          -0.8180      0.141     -5.790      0.000      -1.095      -0.541\n",
      "workclass_Without-pay                       -20.1356   1.09e+04     -0.002      0.999   -2.13e+04    2.13e+04\n",
      "workclass_others                              4.7468        nan        nan        nan         nan         nan\n",
      "education_11th                                1.2147      0.296      4.098      0.000       0.634       1.796\n",
      "education_12th                                2.7097      0.428      6.331      0.000       1.871       3.549\n",
      "education_1st-4th                            -4.5978      0.755     -6.093      0.000      -6.077      -3.119\n",
      "education_5th-6th                            -3.2769      0.540     -6.065      0.000      -4.336      -2.218\n",
      "education_7th-8th                            -2.5305      0.360     -7.032      0.000      -3.236      -1.825\n",
      "education_9th                                -1.1490      0.312     -3.688      0.000      -1.760      -0.538\n",
      "education_Assoc-acdm                          7.6488      0.921      8.304      0.000       5.843       9.454\n",
      "education_Assoc-voc                           6.5541      0.779      8.417      0.000       5.028       8.080\n",
      "education_Bachelors                           9.2378      1.058      8.732      0.000       7.164      11.311\n",
      "education_Doctorate                          13.3764      1.493      8.961      0.000      10.451      16.302\n",
      "education_HS-grad                             3.9638      0.498      7.965      0.000       2.988       4.939\n",
      "education_Masters                            10.6428      1.201      8.863      0.000       8.289      12.996\n",
      "education_Preschool                         -30.2508   4573.747     -0.007      0.995   -8994.631    8934.129\n",
      "education_Prof-school                        12.1929      1.349      9.042      0.000       9.550      14.836\n",
      "education_Some-college                        5.3286      0.636      8.379      0.000       4.082       6.575\n",
      "marital-status_Married-AF-spouse              2.7434      0.601      4.565      0.000       1.566       3.921\n",
      "marital-status_Married-civ-spouse             2.1156      0.305      6.941      0.000       1.518       2.713\n",
      "marital-status_Married-spouse-absent         -0.0838      0.253     -0.332      0.740      -0.579       0.411\n",
      "marital-status_Never-married                 -0.5107      0.098     -5.230      0.000      -0.702      -0.319\n",
      "marital-status_Separated                     -0.0520      0.176     -0.295      0.768      -0.397       0.293\n",
      "marital-status_Widowed                        0.0937      0.170      0.551      0.581      -0.239       0.427\n",
      "occupation_Armed-Forces                      -1.0830      1.525     -0.710      0.478      -4.072       1.906\n",
      "occupation_Craft-repair                       0.0670      0.090      0.747      0.455      -0.109       0.243\n",
      "occupation_Exec-managerial                    0.7971      0.087      9.203      0.000       0.627       0.967\n",
      "occupation_Farming-fishing                   -0.9421      0.154     -6.098      0.000      -1.245      -0.639\n",
      "occupation_Handlers-cleaners                 -0.5588      0.156     -3.587      0.000      -0.864      -0.253\n",
      "occupation_Machine-op-inspct                 -0.1955      0.113     -1.725      0.084      -0.418       0.027\n",
      "occupation_Other-service                     -0.8347      0.132     -6.306      0.000      -1.094      -0.575\n",
      "occupation_Priv-house-serv                   -4.0679      1.686     -2.412      0.016      -7.373      -0.763\n",
      "occupation_Prof-specialty                     0.5175      0.091      5.679      0.000       0.339       0.696\n",
      "occupation_Protective-serv                    0.6060      0.139      4.369      0.000       0.334       0.878\n",
      "occupation_Sales                              0.2887      0.092      3.127      0.002       0.108       0.470\n",
      "occupation_Tech-support                       0.7558      0.125      6.026      0.000       0.510       1.002\n",
      "occupation_Transport-moving                  -0.0952      0.111     -0.858      0.391      -0.313       0.122\n",
      "occupation_others                            -5.8494        nan        nan        nan         nan         nan\n",
      "relationship_Not-in-family                    0.5358      0.302      1.777      0.076      -0.055       1.127\n",
      "relationship_Other-relative                  -0.3677      0.274     -1.341      0.180      -0.905       0.170\n",
      "relationship_Own-child                       -0.7515      0.299     -2.516      0.012      -1.337      -0.166\n",
      "relationship_Unmarried                        0.3436      0.319      1.077      0.281      -0.281       0.969\n",
      "relationship_Wife                             1.4281      0.115     12.441      0.000       1.203       1.653\n",
      "race_Asian-Pac-Islander                       0.6288      0.303      2.077      0.038       0.036       1.222\n",
      "race_Black                                    0.4987      0.260      1.920      0.055      -0.010       1.008\n",
      "race_Other                                -9.496e-05      0.405     -0.000      1.000      -0.793       0.793\n",
      "race_White                                    0.5988      0.248      2.416      0.016       0.113       1.085\n",
      "sex_Male                                      0.8974      0.089     10.134      0.000       0.724       1.071\n",
      "native-country_Canada                        -0.8252      0.776     -1.063      0.288      -2.347       0.697\n",
      "native-country_China                         -2.0028      0.798     -2.510      0.012      -3.567      -0.439\n",
      "native-country_Columbia                      -3.4508      1.094     -3.154      0.002      -5.595      -1.306\n",
      "native-country_Cuba                          -1.0461      0.800     -1.308      0.191      -2.613       0.521\n",
      "native-country_Dominican-Republic            -3.0713      1.266     -2.426      0.015      -5.553      -0.590\n",
      "native-country_Ecuador                       -1.6228      1.021     -1.590      0.112      -3.623       0.378\n",
      "native-country_El-Salvador                   -2.0081      0.882     -2.277      0.023      -3.736      -0.280\n",
      "native-country_England                       -1.2480      0.794     -1.571      0.116      -2.805       0.309\n",
      "native-country_France                        -0.7266      0.916     -0.793      0.428      -2.522       1.069\n",
      "native-country_Germany                       -1.0832      0.774     -1.400      0.162      -2.600       0.434\n",
      "native-country_Greece                        -2.0887      0.936     -2.233      0.026      -3.922      -0.255\n",
      "native-country_Guatemala                     -2.0458      1.214     -1.685      0.092      -4.425       0.333\n",
      "native-country_Haiti                         -1.3234      1.014     -1.306      0.192      -3.310       0.663\n",
      "native-country_Holand-Netherlands           -14.0006   3823.107     -0.004      0.997   -7507.153    7479.152\n",
      "native-country_Honduras                      -2.7444      2.592     -1.059      0.290      -7.824       2.336\n",
      "native-country_Hong                          -1.1232      1.091     -1.029      0.303      -3.262       1.016\n",
      "native-country_Hungary                       -1.4573      1.067     -1.366      0.172      -3.549       0.634\n",
      "native-country_India                         -2.0466      0.767     -2.669      0.008      -3.549      -0.544\n",
      "native-country_Iran                          -1.4537      0.845     -1.721      0.085      -3.109       0.202\n",
      "native-country_Ireland                       -0.7970      0.971     -0.821      0.412      -2.701       1.106\n",
      "native-country_Italy                         -0.6833      0.800     -0.854      0.393      -2.252       0.885\n",
      "native-country_Jamaica                       -1.1745      0.853     -1.377      0.169      -2.846       0.497\n",
      "native-country_Japan                         -1.2325      0.815     -1.512      0.130      -2.830       0.365\n",
      "native-country_Laos                          -2.7487      1.321     -2.081      0.037      -5.337      -0.160\n",
      "native-country_Mexico                        -2.0279      0.760     -2.669      0.008      -3.517      -0.539\n",
      "native-country_Nicaragua                     -2.1305      1.071     -1.990      0.047      -4.229      -0.032\n",
      "native-country_Outlying-US(Guam-USVI-etc)   -29.4770   1.22e+06  -2.41e-05      1.000    -2.4e+06     2.4e+06\n",
      "native-country_Peru                          -2.1780      1.118     -1.949      0.051      -4.368       0.012\n",
      "native-country_Philippines                   -0.8298      0.736     -1.128      0.259      -2.272       0.612\n",
      "native-country_Poland                        -1.3623      0.848     -1.607      0.108      -3.023       0.299\n",
      "native-country_Portugal                      -1.2601      0.966     -1.304      0.192      -3.154       0.634\n",
      "native-country_Puerto-Rico                   -1.4434      0.821     -1.759      0.079      -3.052       0.165\n",
      "native-country_Scotland                      -1.5789      1.148     -1.375      0.169      -3.829       0.672\n",
      "native-country_South                         -2.6560      0.836     -3.179      0.001      -4.294      -1.018\n",
      "native-country_Taiwan                        -1.2677      0.868     -1.460      0.144      -2.970       0.434\n",
      "native-country_Thailand                      -1.7466      1.217     -1.435      0.151      -4.133       0.640\n",
      "native-country_Trinadad&Tobago               -1.8925      1.118     -1.692      0.091      -4.084       0.299\n",
      "native-country_United-States                 -1.2608      0.720     -1.751      0.080      -2.672       0.150\n",
      "native-country_Vietnam                       -2.6932      0.976     -2.760      0.006      -4.606      -0.781\n",
      "native-country_Yugoslavia                    -1.2688      1.128     -1.125      0.261      -3.479       0.942\n",
      "native-country_others                        -1.6304      0.730     -2.233      0.026      -3.062      -0.199\n",
      "=============================================================================================================\n"
     ]
    },
    {
     "name": "stderr",
     "output_type": "stream",
     "text": [
      "C:\\Python-3.10\\lib\\site-packages\\statsmodels\\base\\model.py:607: ConvergenceWarning: Maximum Likelihood optimization failed to converge. Check mle_retvals\n",
      "  warnings.warn(\"Maximum Likelihood optimization failed to \"\n"
     ]
    }
   ],
   "source": [
    "mod = sm.Logit(y_train, x_train).fit()\n",
    "print(mod.summary())"
   ]
  },
  {
   "cell_type": "markdown",
   "id": "19647d88-07a0-4d7d-a6c5-80e27e1a0664",
   "metadata": {},
   "source": [
    "- This line trains the logistic regression model and provides a detailed statistical report on how each feature affects income classification, enabling both prediction and explainability"
   ]
  },
  {
   "cell_type": "code",
   "execution_count": 208,
   "id": "775747be-add3-4757-9c61-3fd6e826f84c",
   "metadata": {},
   "outputs": [],
   "source": [
    "y_pred = mod.predict(x_test)"
   ]
  },
  {
   "cell_type": "markdown",
   "id": "007f6631-d1a4-4092-9ab7-89501f167d9b",
   "metadata": {},
   "source": [
    "Performing the prediction step of your logistic regression model using the test data"
   ]
  },
  {
   "cell_type": "code",
   "execution_count": 209,
   "id": "b16a3c4e-05af-451b-a71b-83f832c05ea4",
   "metadata": {},
   "outputs": [
    {
     "name": "stdout",
     "output_type": "stream",
     "text": [
      "              precision    recall  f1-score   support\n",
      "\n",
      "           0       0.88      0.93      0.90      4926\n",
      "           1       0.73      0.60      0.66      1587\n",
      "\n",
      "    accuracy                           0.85      6513\n",
      "   macro avg       0.80      0.77      0.78      6513\n",
      "weighted avg       0.84      0.85      0.84      6513\n",
      "\n"
     ]
    }
   ],
   "source": [
    "y_pred_class = (y_pred >= 0.5).astype(int)\n",
    "print(classification_report(y_test, y_pred_class))"
   ]
  },
  {
   "cell_type": "markdown",
   "id": "28a5d299-283f-4b35-a27c-27729c0920d4",
   "metadata": {},
   "source": [
    "This block converts predicted probabilities into binary class labels, then evaluates the model’s performance using precision, recall, f1-score, and accuracy."
   ]
  },
  {
   "cell_type": "markdown",
   "id": "682059ed-aa9e-4130-89e0-d793c49971b0",
   "metadata": {},
   "source": [
    "### **Classification Report Summary**\n",
    "\n",
    "* **Overall Accuracy:** 85%\n",
    "\n",
    "* **Class 0 (≤50K income):**\n",
    "\n",
    "  * **Precision:** 0.88 → 88% of predicted low-income cases were correct.\n",
    "  * **Recall:** 0.93 → 93% of actual low-income individuals were correctly identified.\n",
    "  * **F1-score:** 0.90 → Excellent balance between precision and recall.\n",
    "\n",
    "* **Class 1 (>50K income):**\n",
    "\n",
    "  * **Precision:** 0.73 → 73% of predicted high-income cases were correct.\n",
    "  * **Recall:** 0.60 → Only 60% of actual high-income individuals were detected.\n",
    "  * **F1-score:** 0.66 → Moderate performance; room for improvement.\n",
    "\n",
    "- The model is **very good at detecting low-income individuals**, but **misses a significant portion of high-income ones**. Consider tuning the threshold or using class balancing techniques to improve recall for class 1.\n"
   ]
  },
  {
   "cell_type": "code",
   "execution_count": null,
   "id": "60220a47-60ea-4305-9c3d-50770abf2b3d",
   "metadata": {},
   "outputs": [],
   "source": []
  }
 ],
 "metadata": {
  "kernelspec": {
   "display_name": "Python 3 (ipykernel)",
   "language": "python",
   "name": "python3"
  },
  "language_info": {
   "codemirror_mode": {
    "name": "ipython",
    "version": 3
   },
   "file_extension": ".py",
   "mimetype": "text/x-python",
   "name": "python",
   "nbconvert_exporter": "python",
   "pygments_lexer": "ipython3",
   "version": "3.10.0"
  }
 },
 "nbformat": 4,
 "nbformat_minor": 5
}
